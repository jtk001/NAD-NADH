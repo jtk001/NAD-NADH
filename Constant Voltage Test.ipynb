{
 "cells": [
  {
   "cell_type": "code",
   "execution_count": 1,
   "metadata": {
    "scrolled": true
   },
   "outputs": [
    {
     "name": "stdout",
     "output_type": "stream",
     "text": [
      "\n",
      "test: constant\n",
      "\n"
     ]
    },
    {
     "name": "stderr",
     "output_type": "stream",
     "text": [
      " 99%|######################################################################## |\r"
     ]
    },
    {
     "name": "stdout",
     "output_type": "stream",
     "text": [
      "\n",
      "\n"
     ]
    },
    {
     "data": {
      "image/png": "[encoded data removed]",
      "text/plain": [
       "<matplotlib.figure.Figure at 0x7dd6b00>"
      ]
     },
     "metadata": {},
     "output_type": "display_data"
    }
   ],
   "source": [
    "from potentiostat import Potentiostat\n",
    "import matplotlib.pyplot as plt\n",
    "import numpy as np\n",
    "\n",
    "port = 'COM6'    # Serial port for potentiostat device\n",
    "datafile = 'data.txt'    # Name of output data file\n",
    "\n",
    "test_name = 'constant'   # Name of test to run - constant volate voltammetery\n",
    "curr_range = '100uA'     # Name of current range for test [-100uA, +100uA]\n",
    "sample_rate = 10.0      # Rate (samples/sec) at which to collect samples \n",
    "duration = 1            # minutes\n",
    "duration = duration*60*1000 #convert time to ms\n",
    "voltage = 1.0\n",
    "\n",
    "test_param = { \n",
    "        'quietValue' : 0.0,        # Output voltage during quiet peroid\n",
    "        'quietTime'  : 1000,       # Duration of quiet period (ms)\n",
    "        'value'      : voltage,        # Output voltage (V) during constant voltage test\n",
    "        'duration'   : duration,       # Duration of constant voltage test (ms)\n",
    "        }\n",
    "\n",
    "# Create Device object and set sample rate, current range and test parameters\n",
    "dev = Potentiostat(port)             \n",
    "dev.set_sample_rate(sample_rate)   \n",
    "dev.set_curr_range(curr_range)     \n",
    "dev.set_param(test_name,test_param)\n",
    "\n",
    "# Run constant voltammetry test\n",
    "t,volt,curr = dev.run_test(test_name,display='pbar',filename=datafile)\n",
    "t = np.array(t)/60    #output time in minutes\n",
    "\n",
    "# plot results using matplotlib\n",
    "plt.subplot(211)\n",
    "plt.title('Voltage and current vs time')\n",
    "plt.plot(t,volt)\n",
    "plt.ylabel('potential (V)')\n",
    "plt.ylim(0,test_param['value']*1.1)\n",
    "plt.grid('on')\n",
    "\n",
    "plt.subplot(212)\n",
    "plt.plot(t,curr)\n",
    "plt.ylabel('current (uA)')\n",
    "plt.xlabel('time (min)')\n",
    "plt.grid('on')\n",
    "\n",
    "plt.show()\n"
   ]
  }
 ],
 "metadata": {
  "kernelspec": {
   "display_name": "Python 3",
   "language": "python",
   "name": "python3"
  },
  "language_info": {
   "codemirror_mode": {
    "name": "ipython",
    "version": 3
   },
   "file_extension": ".py",
   "mimetype": "text/x-python",
   "name": "python",
   "nbconvert_exporter": "python",
   "pygments_lexer": "ipython3",
   "version": "3.6.3"
  }
 },
 "nbformat": 4,
 "nbformat_minor": 2
}
